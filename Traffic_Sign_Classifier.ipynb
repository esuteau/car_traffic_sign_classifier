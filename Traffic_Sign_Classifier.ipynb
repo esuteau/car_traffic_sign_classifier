{
 "cells": [
  {
   "cell_type": "markdown",
   "metadata": {},
   "source": [
    "# Self-Driving Car Engineer Nanodegree\n",
    "\n",
    "## Deep Learning\n",
    "\n",
    "## Project: Build a Traffic Sign Recognition Classifier\n",
    "\n",
    "In this notebook, a template is provided for you to implement your functionality in stages, which is required to successfully complete this project. If additional code is required that cannot be included in the notebook, be sure that the Python code is successfully imported and included in your submission if necessary. \n",
    "\n",
    "> **Note**: Once you have completed all of the code implementations, you need to finalize your work by exporting the iPython Notebook as an HTML document. Before exporting the notebook to html, all of the code cells need to have been run so that reviewers can see the final implementation and output. You can then export the notebook by using the menu above and navigating to  \\n\",\n",
    "    \"**File -> Download as -> HTML (.html)**. Include the finished document along with this notebook as your submission. \n",
    "\n",
    "In addition to implementing code, there is a writeup to complete. The writeup should be completed in a separate file, which can be either a markdown file or a pdf document. There is a [write up template](https://github.com/udacity/CarND-Traffic-Sign-Classifier-Project/blob/master/writeup_template.md) that can be used to guide the writing process. Completing the code template and writeup template will cover all of the [rubric points](https://review.udacity.com/#!/rubrics/481/view) for this project.\n",
    "\n",
    "The [rubric](https://review.udacity.com/#!/rubrics/481/view) contains \"Stand Out Suggestions\" for enhancing the project beyond the minimum requirements. The stand out suggestions are optional. If you decide to pursue the \"stand out suggestions\", you can include the code in this Ipython notebook and also discuss the results in the writeup file.\n",
    "\n",
    "\n",
    ">**Note:** Code and Markdown cells can be executed using the **Shift + Enter** keyboard shortcut. In addition, Markdown cells can be edited by typically double-clicking the cell to enter edit mode."
   ]
  },
  {
   "cell_type": "markdown",
   "metadata": {},
   "source": [
    "## Step -1: Download the dataset"
   ]
  },
  {
   "cell_type": "code",
   "execution_count": 1,
   "metadata": {
    "collapsed": true
   },
   "outputs": [],
   "source": [
    "from urllib.request import urlretrieve\n",
    "from os.path import isfile, isdir\n",
    "from zipfile import ZipFile\n",
    "from tqdm import tqdm\n",
    "import sys\n",
    "\n",
    "# Download the dataset and extract it\n",
    "base_path = '/home/carnd/car_traffic_sign_classifier/'\n",
    "traffic_signs_dataset_folder_path = base_path\n",
    "\n",
    "class DLProgress(tqdm):\n",
    "    last_block = 0\n",
    "\n",
    "    def hook(self, block_num=1, block_size=1, total_size=None):\n",
    "        self.total = total_size\n",
    "        self.update((block_num - self.last_block) * block_size)\n",
    "        self.last_block = block_num\n",
    "\n",
    "if not isfile('traffic-signs-data.zip'):\n",
    "    with DLProgress(unit='B', unit_scale=True, miniters=1, desc='Traffic Signs Dataset') as pbar:\n",
    "        urlretrieve(\n",
    "            'https://d17h27t6h515a5.cloudfront.net/topher/2017/February/5898cd6f_traffic-signs-data/traffic-signs-data.zip',\n",
    "            'traffic-signs-data.zip',\n",
    "            pbar.hook)\n",
    "\n",
    "if not isfile('train.p'):\n",
    "    with ZipFile('traffic-signs-data.zip', 'r') as zip:\n",
    "        print('Extracting the zipfile to {}'.format(traffic_signs_dataset_folder_path))\n",
    "        zip.extractall()\n",
    "        zip.close()"
   ]
  },
  {
   "cell_type": "markdown",
   "metadata": {},
   "source": [
    "---\n",
    "## Step 0: Load The Data"
   ]
  },
  {
   "cell_type": "code",
   "execution_count": 2,
   "metadata": {},
   "outputs": [
    {
     "name": "stdout",
     "output_type": "stream",
     "text": [
      "['.git', 'train.p', 'visualize_cnn.png', 'trafficSignClassifier.meta', 'signnames.csv', 'README.md', 'trafficSignClassifier.index', 'valid.p', 'trafficSignClassifier.data-00000-of-00001', 'Visualizations', 'traffic-signs-data.zip', 'Traffic_Sign_Classifier.ipynb', '.ipynb_checkpoints', '.gitignore', 'writeup_template.md', 'checkpoint', 'results.txt', 'test.p', 'examples']\n"
     ]
    }
   ],
   "source": [
    "# Load pickled data\n",
    "import pickle\n",
    "import os\n",
    "\n",
    "# Verify the files were correctly extracted\n",
    "dirs = os.listdir(base_path)\n",
    "print(dirs)\n",
    "\n",
    "training_file = 'train.p'\n",
    "validation_file = 'valid.p'\n",
    "testing_file = 'test.p'\n",
    "\n",
    "with open(training_file, mode='rb') as f:\n",
    "    train = pickle.load(f)\n",
    "with open(validation_file, mode='rb') as f:\n",
    "    valid = pickle.load(f)\n",
    "with open(testing_file, mode='rb') as f:\n",
    "    test = pickle.load(f)\n",
    "    \n",
    "X_train, y_train = train['features'], train['labels']\n",
    "X_valid, y_valid = valid['features'], valid['labels']\n",
    "X_test, y_test = test['features'], test['labels']"
   ]
  },
  {
   "cell_type": "markdown",
   "metadata": {},
   "source": [
    "---\n",
    "\n",
    "## Step 1: Dataset Summary & Exploration\n",
    "\n",
    "The pickled data is a dictionary with 4 key/value pairs:\n",
    "\n",
    "- `'features'` is a 4D array containing raw pixel data of the traffic sign images, (num examples, width, height, channels).\n",
    "- `'labels'` is a 1D array containing the label/class id of the traffic sign. The file `signnames.csv` contains id -> name mappings for each id.\n",
    "- `'sizes'` is a list containing tuples, (width, height) representing the original width and height the image.\n",
    "- `'coords'` is a list containing tuples, (x1, y1, x2, y2) representing coordinates of a bounding box around the sign in the image. **THESE COORDINATES ASSUME THE ORIGINAL IMAGE. THE PICKLED DATA CONTAINS RESIZED VERSIONS (32 by 32) OF THESE IMAGES**\n",
    "\n",
    "Complete the basic data summary below. Use python, numpy and/or pandas methods to calculate the data summary rather than hard coding the results. For example, the [pandas shape method](http://pandas.pydata.org/pandas-docs/stable/generated/pandas.DataFrame.shape.html) might be useful for calculating some of the summary results. "
   ]
  },
  {
   "cell_type": "markdown",
   "metadata": {},
   "source": [
    "### Provide a Basic Summary of the Data Set Using Python, Numpy and/or Pandas"
   ]
  },
  {
   "cell_type": "code",
   "execution_count": 3,
   "metadata": {},
   "outputs": [
    {
     "name": "stdout",
     "output_type": "stream",
     "text": [
      "Training Set: 34799, Size: (34799, 32, 32, 3)\n",
      "Validation Set: 4410, Size: (4410, 32, 32, 3)\n",
      "Test Set: 12630, Size: (12630, 32, 32, 3)\n",
      "Image data shape: (32, 32, 3)\n",
      "Number of classes: 43\n"
     ]
    }
   ],
   "source": [
    "### Replace each question mark with the appropriate value. \n",
    "### Use python, pandas or numpy methods rather than hard coding the results\n",
    "\n",
    "# Number of training examples\n",
    "n_train = X_train.shape[0]\n",
    "\n",
    "# Number of validation examples\n",
    "n_validation =  X_valid.shape[0]\n",
    "\n",
    "# Number of testing examples.\n",
    "n_test =  X_test.shape[0]\n",
    "\n",
    "# What's the shape of an traffic sign image?\n",
    "image_shape = X_train[0].shape\n",
    "\n",
    "# How many unique classes/labels there are in the dataset.\n",
    "n_classes = len(set(y_train))\n",
    "print(\"Training Set: {}, Size: {}\".format(n_train, X_train.shape))\n",
    "print(\"Validation Set: {}, Size: {}\".format(n_validation,  X_valid.shape))\n",
    "print(\"Test Set: {}, Size: {}\".format(n_test,  X_test.shape))\n",
    "print(\"Image data shape: {}\".format(image_shape))\n",
    "print(\"Number of classes: {}\".format(n_classes))"
   ]
  },
  {
   "cell_type": "markdown",
   "metadata": {},
   "source": [
    "### Include an exploratory visualization of the dataset"
   ]
  },
  {
   "cell_type": "markdown",
   "metadata": {},
   "source": [
    "Visualize the German Traffic Signs Dataset using the pickled file(s). This is open ended, suggestions include: plotting traffic sign images, plotting the count of each sign, etc. \n",
    "\n",
    "The [Matplotlib](http://matplotlib.org/) [examples](http://matplotlib.org/examples/index.html) and [gallery](http://matplotlib.org/gallery.html) pages are a great resource for doing visualizations in Python.\n",
    "\n",
    "**NOTE:** It's recommended you start with something simple first. If you wish to do more, come back to it after you've completed the rest of the sections. It can be interesting to look at the distribution of classes in the training, validation and test set. Is the distribution the same? Are there more examples of some classes than others?"
   ]
  },
  {
   "cell_type": "code",
   "execution_count": 4,
   "metadata": {
    "collapsed": true
   },
   "outputs": [],
   "source": [
    "### Data exploration visualization code goes here.\n",
    "### Feel free to use as many code cells as needed.\n",
    "import matplotlib.pyplot as plt\n",
    "import random\n",
    "\n",
    "# Visualizations will be shown in the notebook.\n",
    "%matplotlib inline"
   ]
  },
  {
   "cell_type": "markdown",
   "metadata": {},
   "source": [
    "### Parse the sign names from the csv"
   ]
  },
  {
   "cell_type": "code",
   "execution_count": 5,
   "metadata": {
    "collapsed": true
   },
   "outputs": [],
   "source": [
    "sign_names = {}\n",
    "with open('signnames.csv', 'r') as f:\n",
    "    file_data = f.readlines()\n",
    "    \n",
    "for n, line in enumerate(file_data):\n",
    "    if n == 0:\n",
    "        continue\n",
    "    res = line.split(',')\n",
    "    sign_names[int(res[0])] = res[1].strip('\\n')"
   ]
  },
  {
   "cell_type": "markdown",
   "metadata": {},
   "source": [
    "### Example of input image"
   ]
  },
  {
   "cell_type": "code",
   "execution_count": 6,
   "metadata": {},
   "outputs": [
    {
     "name": "stdout",
     "output_type": "stream",
     "text": [
      "Image Label: 31: Wild animals crossing\n",
      "Image Shape: (32, 32, 3)\n"
     ]
    },
    {
     "data": {
      "image/png": "[encoded data removed]",
      "text/plain": [
       "<matplotlib.figure.Figure at 0x7fe459b365c0>"
      ]
     },
     "metadata": {},
     "output_type": "display_data"
    }
   ],
   "source": [
    "# Show a traffic sign from the training set.\n",
    "index = 500\n",
    "image_data = X_train[index]\n",
    "\n",
    "print('Image Label: {}: {}'.format(y_train[index], sign_names[y_train[index]]))\n",
    "print('Image Shape: {}'.format(image_data.shape))\n",
    "\n",
    "if image_data.shape[2] == 1: \n",
    "    plt.imshow(image_data.squeeze(), cmap='gray')\n",
    "else:\n",
    "    plt.imshow(image_data.squeeze())"
   ]
  },
  {
   "cell_type": "markdown",
   "metadata": {},
   "source": [
    "### Distribution of the Training Set"
   ]
  },
  {
   "cell_type": "code",
   "execution_count": 7,
   "metadata": {},
   "outputs": [
    {
     "data": {
      "image/png": "[encoded data removed]",
      "text/plain": [
       "<matplotlib.figure.Figure at 0x7fe459888320>"
      ]
     },
     "metadata": {},
     "output_type": "display_data"
    },
    {
     "name": "stdout",
     "output_type": "stream",
     "text": [
      "Most common sign has 11.166666666666728 more data samples than least common\n"
     ]
    }
   ],
   "source": [
    "import numpy as np\n",
    "\n",
    "# Look at the distribution of the different labels in the training set.\n",
    "# Normalize it, so that it looks like probabilities.\n",
    "n, bins, patches = plt.hist(y_train, n_classes, normed=1, facecolor='green', alpha=0.75)\n",
    "plt.xlabel('Labels')\n",
    "plt.ylabel('Probability')\n",
    "plt.title('Label Distribution for the Training Set')\n",
    "plt.axis([0, n_classes, 0, 0.06])\n",
    "plt.grid(True)\n",
    "plt.show()\n",
    "\n",
    "# Look at the different between the most common traffic sign and the least common\n",
    "most_common = np.max(n)\n",
    "least_common = np.min(n)\n",
    "most_least_ratio = most_common / least_common\n",
    "print('Most common sign has {} more data samples than least common'.format(most_least_ratio))"
   ]
  },
  {
   "cell_type": "markdown",
   "metadata": {},
   "source": [
    "### Distribution of the Validation set"
   ]
  },
  {
   "cell_type": "code",
   "execution_count": 8,
   "metadata": {},
   "outputs": [
    {
     "data": {
      "image/png": "[encoded data removed]",
      "text/plain": [
       "<matplotlib.figure.Figure at 0x7fe4598985f8>"
      ]
     },
     "metadata": {},
     "output_type": "display_data"
    }
   ],
   "source": [
    "n, bins, patches = plt.hist(y_valid, n_classes, normed=1, facecolor='green', alpha=0.75)\n",
    "plt.xlabel('Labels')\n",
    "plt.ylabel('Probability')\n",
    "plt.title('Label Distribution for the Validation Set')\n",
    "plt.axis([0, n_classes, 0, 0.06])\n",
    "plt.grid(True)\n",
    "plt.show()"
   ]
  },
  {
   "cell_type": "markdown",
   "metadata": {},
   "source": [
    "### Distribution of the Test set"
   ]
  },
  {
   "cell_type": "code",
   "execution_count": 9,
   "metadata": {},
   "outputs": [
    {
     "data": {
      "image/png": "[encoded data removed]",
      "text/plain": [
       "<matplotlib.figure.Figure at 0x7fe4596252e8>"
      ]
     },
     "metadata": {},
     "output_type": "display_data"
    }
   ],
   "source": [
    "n, bins, patches = plt.hist(y_test, n_classes, normed=1, facecolor='green', alpha=0.75)\n",
    "plt.xlabel('Labels')\n",
    "plt.ylabel('Probability')\n",
    "plt.title('Label Distribution for the Test Set')\n",
    "plt.axis([0, n_classes, 0, 0.06])\n",
    "plt.grid(True)\n",
    "plt.show()"
   ]
  },
  {
   "cell_type": "markdown",
   "metadata": {},
   "source": [
    "----\n",
    "\n",
    "## Step 2: Design and Test a Model Architecture\n",
    "\n",
    "Design and implement a deep learning model that learns to recognize traffic signs. Train and test your model on the [German Traffic Sign Dataset](http://benchmark.ini.rub.de/?section=gtsrb&subsection=dataset).\n",
    "\n",
    "The LeNet-5 implementation shown in the [classroom](https://classroom.udacity.com/nanodegrees/nd013/parts/fbf77062-5703-404e-b60c-95b78b2f3f9e/modules/6df7ae49-c61c-4bb2-a23e-6527e69209ec/lessons/601ae704-1035-4287-8b11-e2c2716217ad/concepts/d4aca031-508f-4e0b-b493-e7b706120f81) at the end of the CNN lesson is a solid starting point. You'll have to change the number of classes and possibly the preprocessing, but aside from that it's plug and play! \n",
    "\n",
    "With the LeNet-5 solution from the lecture, you should expect a validation set accuracy of about 0.89. To meet specifications, the validation set accuracy will need to be at least 0.93. It is possible to get an even higher accuracy, but 0.93 is the minimum for a successful project submission. \n",
    "\n",
    "There are various aspects to consider when thinking about this problem:\n",
    "\n",
    "- Neural network architecture (is the network over or underfitting?)\n",
    "- Play around preprocessing techniques (normalization, rgb to grayscale, etc)\n",
    "- Number of examples per label (some have more than others).\n",
    "- Generate fake data.\n",
    "\n",
    "Here is an example of a [published baseline model on this problem](http://yann.lecun.com/exdb/publis/pdf/sermanet-ijcnn-11.pdf). It's not required to be familiar with the approach used in the paper but, it's good practice to try to read papers like these."
   ]
  },
  {
   "cell_type": "markdown",
   "metadata": {},
   "source": [
    "### Pre-process the Data Set (normalization, grayscale, etc.)"
   ]
  },
  {
   "cell_type": "markdown",
   "metadata": {},
   "source": [
    "Minimally, the image data should be normalized so that the data has mean zero and equal variance. For image data, `(pixel - 128)/ 128` is a quick way to approximately normalize the data and can be used in this project. \n",
    "\n",
    "Other pre-processing steps are optional. You can try different techniques to see if it improves performance. \n",
    "\n",
    "Use the code cell (or multiple code cells, if necessary) to implement the first step of your project."
   ]
  },
  {
   "cell_type": "code",
   "execution_count": 10,
   "metadata": {},
   "outputs": [
    {
     "name": "stdout",
     "output_type": "stream",
     "text": [
      "Converting Dataset to Grayscale and Normalizing\n",
      "Converting Dataset to Grayscale and Normalizing\n",
      "Converting Dataset to Grayscale and Normalizing\n"
     ]
    }
   ],
   "source": [
    "### Preprocess the data here. It is required to normalize the data. Other preprocessing steps could include \n",
    "### converting to grayscale, etc.\n",
    "### Feel free to use as many code cells as needed.\n",
    "\n",
    "import numpy as np\n",
    "from sklearn.utils import shuffle\n",
    "from skimage.color import rgb2gray\n",
    "from skimage.transform import resize\n",
    "\n",
    "def preprocess(images, hyperparams = {}):\n",
    "\n",
    "    image_new = images\n",
    "\n",
    "    if hyperparams['greyscale']:\n",
    "        #print('Average: {}'.format(np.average(image_new.reshape((1,-1)))))\n",
    "        print('Converting Dataset to Grayscale and Normalizing')\n",
    "        image_new = rgb2gray(image_new).reshape(image_new.shape[0], image_new.shape[1], image_new.shape[2], 1)\n",
    "        #print('Average: {}'.format(np.average(image_new.reshape((1,-1)))))\n",
    "\n",
    "    if hyperparams['normalization']:\n",
    "        print('Normalizing the data to zero mean')\n",
    "\n",
    "        # Show Data Before Normalization, and After\n",
    "        print('Data before pre-processing: {}'.format(image_new[index].reshape((1,-1))))\n",
    "\n",
    "        # Normalize Data (Doesn't help)\n",
    "        image_new = (image_new - 128) / 128\n",
    "\n",
    "        print('Data after pre-processing: {}'.format(image_new[index].reshape((1,-1))))\n",
    "        print('Average: {}'.format(np.average(image_new.reshape((1,-1)))))\n",
    "        \n",
    "    return image_new\n",
    "\n",
    "\n",
    "# Pre process the input data\n",
    "hyperparams = {}\n",
    "\n",
    "hyperparams['normalization'] = False\n",
    "hyperparams['shuffle'] = True\n",
    "hyperparams['greyscale'] = True\n",
    "\n",
    "# Reload the dataset\n",
    "X_train, y_train = train['features'], train['labels']\n",
    "X_valid, y_valid = valid['features'], valid['labels']\n",
    "X_test, y_test = test['features'], test['labels']\n",
    "\n",
    "X_train = preprocess(X_train, hyperparams)\n",
    "X_valid = preprocess(X_valid, hyperparams)\n",
    "X_test = preprocess(X_test, hyperparams)"
   ]
  },
  {
   "cell_type": "code",
   "execution_count": 11,
   "metadata": {},
   "outputs": [
    {
     "name": "stdout",
     "output_type": "stream",
     "text": [
      "Image Label: 31\n",
      "Image Shape: (32, 32, 1)\n"
     ]
    },
    {
     "data": {
      "image/png": "[encoded data removed]",
      "text/plain": [
       "<matplotlib.figure.Figure at 0x7fe45951a588>"
      ]
     },
     "metadata": {},
     "output_type": "display_data"
    }
   ],
   "source": [
    "# Plot the same example after pre-processing\n",
    "image_data = X_train[index]\n",
    "\n",
    "print('Image Label: {}'.format(y_train[index]))\n",
    "print('Image Shape: {}'.format(image_data.shape))\n",
    "\n",
    "if image_data.shape[2] == 1: \n",
    "    plt.imshow(image_data.squeeze(), cmap='gray')\n",
    "else:\n",
    "    plt.imshow(image_data.squeeze())"
   ]
  },
  {
   "cell_type": "code",
   "execution_count": 12,
   "metadata": {},
   "outputs": [
    {
     "name": "stdout",
     "output_type": "stream",
     "text": [
      "Shuffling Data\n"
     ]
    }
   ],
   "source": [
    "# Shuffle Data\n",
    "if hyperparams['shuffle'] :\n",
    "    print('Shuffling Data')\n",
    "    X_train, y_train = shuffle(X_train, y_train)"
   ]
  },
  {
   "cell_type": "code",
   "execution_count": 13,
   "metadata": {},
   "outputs": [
    {
     "name": "stdout",
     "output_type": "stream",
     "text": [
      "Training Set: (34799, 32, 32, 1)\n",
      "Validation Set: (4410, 32, 32, 1)\n",
      "Test Set: (12630, 32, 32, 1)\n",
      "Number of classes: (34799,)\n"
     ]
    }
   ],
   "source": [
    "# After Pre-processing, display the dataset size again\n",
    "print(\"Training Set: {}\".format(X_train.shape))\n",
    "print(\"Validation Set: {}\".format(X_valid.shape))\n",
    "print(\"Test Set: {}\".format(X_test.shape))\n",
    "print(\"Number of classes: {}\".format(y_train.shape))"
   ]
  },
  {
   "cell_type": "markdown",
   "metadata": {},
   "source": [
    "### Model Architecture"
   ]
  },
  {
   "cell_type": "code",
   "execution_count": 14,
   "metadata": {
    "collapsed": true
   },
   "outputs": [],
   "source": [
    "### Define your architecture here.\n",
    "### Feel free to use as many code cells as needed.\n",
    "from tensorflow.contrib.layers import flatten\n",
    "\n",
    "def LeNetTrafficSigns(x, parameters = {}):  \n",
    "    \n",
    "    # We base this classifier on LeNet's architecture.\n",
    "    \n",
    "    # Get the network parameters from a dictionary\n",
    "    mu = parameters.get('mu', 0)\n",
    "    sigma = parameters.get('sigma', 0.1)\n",
    "    input_depth = parameters.get('input_depth', 3)\n",
    "    filter_size = parameters.get('filter_size', 5)\n",
    "    conv1_depth = parameters.get('conv1_depth', 6)\n",
    "    conv2_depth = parameters.get('conv2_depth', 16)\n",
    "    fc1_out_size = parameters.get('fc1_out_size', 120)\n",
    "    fc2_out_size = parameters.get('fc2_out_size', 84)\n",
    "    \n",
    "    print('Network Parameters')\n",
    "    print('mu: {}'.format(mu))\n",
    "    print('sigma: {}'.format(sigma))\n",
    "    print('input_depth: {}'.format(input_depth))\n",
    "    print('filter_size: {}'.format(filter_size))\n",
    "    print('conv1_depth: {}'.format(conv1_depth))\n",
    "    print('conv2_depth: {}'.format(conv2_depth))\n",
    "    print('fc1_out_size: {}'.format(fc1_out_size))\n",
    "    print('fc2_out_size: {}'.format(fc2_out_size))\n",
    "    \n",
    "    # Layer 1: Convolutional. Input = 32x32x3. Output = 28x28x16.\n",
    "    conv1_W = tf.Variable(tf.truncated_normal(shape=(filter_size, filter_size, input_depth, conv1_depth), mean = mu, stddev = sigma))\n",
    "    conv1_b = tf.Variable(tf.zeros(conv1_depth))\n",
    "    conv1   = tf.nn.conv2d(x, conv1_W, strides=[1, 1, 1, 1], padding='VALID') + conv1_b\n",
    "\n",
    "    # Activation.\n",
    "    conv1 = tf.nn.relu(conv1)\n",
    "\n",
    "    # Pooling. Input = 28x28x6. Output = 14x14x6.\n",
    "    conv1 = tf.nn.max_pool(conv1, ksize=[1, 2, 2, 1], strides=[1, 2, 2, 1], padding='VALID')\n",
    "\n",
    "    # Layer 2: Convolutional. Output = 10x10x16.\n",
    "    conv2_W = tf.Variable(tf.truncated_normal(shape=(filter_size, filter_size, conv1_depth, conv2_depth), mean = mu, stddev = sigma))\n",
    "    conv2_b = tf.Variable(tf.zeros(conv2_depth))\n",
    "    conv2   = tf.nn.conv2d(conv1, conv2_W, strides=[1, 1, 1, 1], padding='VALID') + conv2_b\n",
    "    \n",
    "    # Activation.\n",
    "    conv2 = tf.nn.relu(conv2)\n",
    "\n",
    "    # Pooling. Input = 10x10x32. Output = 5x5x32.\n",
    "    conv2 = tf.nn.max_pool(conv2, ksize=[1, 2, 2, 1], strides=[1, 2, 2, 1], padding='VALID')\n",
    "\n",
    "    # Flatten. Input = 5x5x32. Output = 800.\n",
    "    fc0   = flatten(conv2)\n",
    "    \n",
    "    # Layer 3: Fully Connected. Input = 800. Output = 120.\n",
    "    fc1_in_size = filter_size * filter_size * conv2_depth\n",
    "    fc1_W = tf.Variable(tf.truncated_normal(shape=(fc1_in_size, fc1_out_size), mean = mu, stddev = sigma))\n",
    "    fc1_b = tf.Variable(tf.zeros(fc1_out_size))\n",
    "    fc1   = tf.matmul(fc0, fc1_W) + fc1_b\n",
    "    \n",
    "    # Activation.\n",
    "    fc1    = tf.nn.relu(fc1)\n",
    "\n",
    "    # Layer 4: Fully Connected. Input = 120. Output = 84.\n",
    "    fc2_W  = tf.Variable(tf.truncated_normal(shape=(fc1_out_size, fc2_out_size), mean = mu, stddev = sigma))\n",
    "    fc2_b  = tf.Variable(tf.zeros(fc2_out_size))\n",
    "    fc2    = tf.matmul(fc1, fc2_W) + fc2_b\n",
    "    \n",
    "    # Activation.\n",
    "    fc2    = tf.nn.relu(fc2)\n",
    "\n",
    "    # Layer 5: Fully Connected. Input = 84. Output = 43.\n",
    "    fc3_W  = tf.Variable(tf.truncated_normal(shape=(fc2_out_size, n_classes), mean = mu, stddev = sigma))\n",
    "    fc3_b  = tf.Variable(tf.zeros(n_classes))\n",
    "    logits = tf.matmul(fc2, fc3_W) + fc3_b\n",
    "    \n",
    "    return logits"
   ]
  },
  {
   "cell_type": "code",
   "execution_count": 15,
   "metadata": {
    "collapsed": true
   },
   "outputs": [],
   "source": [
    "## Hyper parameters\n",
    "epochs = 20\n",
    "batch_size = 128\n",
    "rate = 0.001\n",
    "\n",
    "hyperparams['epochs'] = epochs\n",
    "hyperparams['batch_size'] = batch_size\n",
    "hyperparams['rate'] = rate\n",
    "hyperparams['mu'] = 0\n",
    "hyperparams['sigma'] = 0.1\n",
    "hyperparams['input_depth'] = X_train.shape[3]\n",
    "hyperparams['filter_size'] = 5\n",
    "hyperparams['conv1_depth'] = 32\n",
    "hyperparams['conv2_depth'] = 64\n",
    "hyperparams['fc1_out_size'] = 240\n",
    "hyperparams['fc2_out_size'] = 120\n"
   ]
  },
  {
   "cell_type": "markdown",
   "metadata": {},
   "source": [
    "### Train, Validate and Test the Model"
   ]
  },
  {
   "cell_type": "markdown",
   "metadata": {},
   "source": [
    "A validation set can be used to assess how well the model is performing. A low accuracy on the training and validation\n",
    "sets imply underfitting. A high accuracy on the training set but low accuracy on the validation set implies overfitting."
   ]
  },
  {
   "cell_type": "code",
   "execution_count": 16,
   "metadata": {},
   "outputs": [
    {
     "name": "stdout",
     "output_type": "stream",
     "text": [
      "Network Parameters\n",
      "mu: 0\n",
      "sigma: 0.1\n",
      "input_depth: 1\n",
      "filter_size: 5\n",
      "conv1_depth: 32\n",
      "conv2_depth: 64\n",
      "fc1_out_size: 240\n",
      "fc2_out_size: 120\n",
      "Training...\n",
      "\n",
      "Epoch 1/20, Training Accuracy = 0.905,  Validation Accuracy = 0.832\n",
      "Epoch 2/20, Training Accuracy = 0.968,  Validation Accuracy = 0.889\n",
      "Epoch 3/20, Training Accuracy = 0.985,  Validation Accuracy = 0.912\n",
      "Epoch 4/20, Training Accuracy = 0.989,  Validation Accuracy = 0.919\n",
      "Epoch 5/20, Training Accuracy = 0.991,  Validation Accuracy = 0.921\n",
      "Epoch 6/20, Training Accuracy = 0.989,  Validation Accuracy = 0.922\n",
      "Epoch 7/20, Training Accuracy = 0.997,  Validation Accuracy = 0.929\n",
      "Epoch 8/20, Training Accuracy = 0.998,  Validation Accuracy = 0.942\n",
      "Epoch 9/20, Training Accuracy = 0.991,  Validation Accuracy = 0.929\n",
      "Epoch 10/20, Training Accuracy = 0.998,  Validation Accuracy = 0.932\n",
      "Epoch 11/20, Training Accuracy = 0.995,  Validation Accuracy = 0.920\n",
      "Epoch 12/20, Training Accuracy = 0.999,  Validation Accuracy = 0.932\n",
      "Epoch 13/20, Training Accuracy = 0.995,  Validation Accuracy = 0.932\n",
      "Epoch 14/20, Training Accuracy = 0.997,  Validation Accuracy = 0.934\n",
      "Epoch 15/20, Training Accuracy = 0.999,  Validation Accuracy = 0.954\n",
      "Epoch 16/20, Training Accuracy = 0.999,  Validation Accuracy = 0.938\n",
      "Epoch 17/20, Training Accuracy = 0.999,  Validation Accuracy = 0.941\n",
      "Epoch 18/20, Training Accuracy = 0.999,  Validation Accuracy = 0.946\n",
      "Epoch 19/20, Training Accuracy = 1.000,  Validation Accuracy = 0.950\n",
      "Epoch 20/20, Training Accuracy = 0.999,  Validation Accuracy = 0.946\n",
      "Model saved\n"
     ]
    }
   ],
   "source": [
    "### Train your model here.\n",
    "### Calculate and report the accuracy on the training and validation set.\n",
    "### Once a final model architecture is selected, \n",
    "### the accuracy on the test set should be calculated and reported as well.\n",
    "### Feel free to use as many code cells as needed.\n",
    "\n",
    "import tensorflow as tf\n",
    "\n",
    "def evaluate(X_data, y_data):\n",
    "    num_examples = len(X_data)\n",
    "    total_accuracy = 0\n",
    "    sess = tf.get_default_session()\n",
    "    for offset in range(0, num_examples, batch_size):\n",
    "        batch_x, batch_y = X_data[offset:offset+batch_size], y_data[offset:offset+batch_size]\n",
    "        accuracy = sess.run(accuracy_operation, feed_dict={x: batch_x, y: batch_y})\n",
    "        total_accuracy += (accuracy * len(batch_x))\n",
    "    return total_accuracy / num_examples\n",
    "\n",
    "# Define Tensorflow variables\n",
    "x = tf.placeholder(tf.float32, (None, 32, 32, hyperparams['input_depth']))\n",
    "y = tf.placeholder(tf.int32, (None))\n",
    "\n",
    "# One-Hot encode outputs\n",
    "one_hot_y = tf.one_hot(y, n_classes)\n",
    "\n",
    "# Create the Model\n",
    "logits = LeNetTrafficSigns(x, hyperparams)\n",
    "cross_entropy = tf.nn.softmax_cross_entropy_with_logits(labels=one_hot_y, logits=logits)\n",
    "loss_operation = tf.reduce_mean(cross_entropy)\n",
    "optimizer = tf.train.AdamOptimizer(learning_rate = rate)\n",
    "training_operation = optimizer.minimize(loss_operation)\n",
    "\n",
    "# Define Accuracy Metrics\n",
    "correct_prediction = tf.equal(tf.argmax(logits, 1), tf.argmax(one_hot_y, 1))\n",
    "accuracy_operation = tf.reduce_mean(tf.cast(correct_prediction, tf.float32))\n",
    "saver = tf.train.Saver()\n",
    "\n",
    "# Train the Network\n",
    "with tf.Session() as sess:\n",
    "    sess.run(tf.global_variables_initializer())\n",
    "    num_examples = len(X_train)\n",
    "    \n",
    "    print(\"Training...\")\n",
    "    print()\n",
    "    for i in range(epochs):\n",
    "        X_train, y_train = shuffle(X_train, y_train)\n",
    "        for offset in range(0, num_examples, batch_size):\n",
    "            end = offset + batch_size\n",
    "            batch_x, batch_y = X_train[offset:end], y_train[offset:end]\n",
    "            sess.run(training_operation, feed_dict={x: batch_x, y: batch_y})\n",
    "            \n",
    "        training_accuracy = evaluate(X_train, y_train)    \n",
    "        validation_accuracy = evaluate(X_valid, y_valid)\n",
    "        print(\"Epoch {}/{}, Training Accuracy = {:.3f},  Validation Accuracy = {:.3f}\".format(i+1, epochs, training_accuracy, validation_accuracy))\n",
    "        \n",
    "    saver.save(sess, './trafficSignClassifier')\n",
    "    print(\"Model saved\")\n",
    "    \n",
    "# Save the Results and parameters to a file, so that we can compare different architectures.\n",
    "with open(\"results.txt\", \"a\") as myfile:\n",
    "    keys_sorted = sorted(hyperparams.keys())\n",
    "    for key in keys_sorted:\n",
    "        myfile.write('{}\\t'.format(key))\n",
    "    myfile.write('Valid. Acc.\\n')\n",
    "    \n",
    "    for key in keys_sorted:\n",
    "        myfile.write('{}\\t'.format(hyperparams[key]))\n",
    "    myfile.write(\"{}\\n\".format(validation_accuracy))"
   ]
  },
  {
   "cell_type": "code",
   "execution_count": 17,
   "metadata": {},
   "outputs": [
    {
     "name": "stdout",
     "output_type": "stream",
     "text": [
      "Test Accuracy = 0.934\n"
     ]
    }
   ],
   "source": [
    "# Evaluate the Model on the test set\n",
    "with tf.Session() as sess:\n",
    "    saver.restore(sess, tf.train.latest_checkpoint('.'))\n",
    "\n",
    "    test_accuracy = evaluate(X_test, y_test)\n",
    "    print(\"Test Accuracy = {:.3f}\".format(test_accuracy))"
   ]
  },
  {
   "cell_type": "markdown",
   "metadata": {},
   "source": [
    "---\n",
    "\n",
    "## Step 3: Test a Model on New Images\n",
    "\n",
    "To give yourself more insight into how your model is working, download at least five pictures of German traffic signs from the web and use your model to predict the traffic sign type.\n",
    "\n",
    "You may find `signnames.csv` useful as it contains mappings from the class id (integer) to the actual sign name."
   ]
  },
  {
   "cell_type": "markdown",
   "metadata": {},
   "source": [
    "### Load and Output the Images"
   ]
  },
  {
   "cell_type": "code",
   "execution_count": 27,
   "metadata": {},
   "outputs": [
    {
     "name": "stdout",
     "output_type": "stream",
     "text": [
      "['traffic_sign_1_edited.jpg', 'traffic_sign_2_edited.jpg', 'traffic_sign_3_edited.jpg', 'traffic_sign_4_edited.jpg', 'traffic_sign_5_edited.jpg']\n"
     ]
    },
    {
     "data": {
      "image/png": "[encoded data removed]",
      "text/plain": [
       "<matplotlib.figure.Figure at 0x7fe443324d30>"
      ]
     },
     "metadata": {},
     "output_type": "display_data"
    },
    {
     "name": "stdout",
     "output_type": "stream",
     "text": [
      "New Image dataset size: (5, 32, 32, 3)\n"
     ]
    }
   ],
   "source": [
    "### Load the images and plot them here.\n",
    "### Feel free to use as many code cells as needed.\n",
    "from skimage.color import rgb2gray\n",
    "from skimage.data import load\n",
    "from skimage.transform import resize\n",
    "\n",
    "# Load the images and resisze them as 32x32x3 inputs.\n",
    "test_images_folder = base_path + '/Visualizations/web_image_set/modified/'\n",
    "list_images = sorted(os.listdir(test_images_folder))\n",
    "print(list_images)\n",
    "\n",
    "new_images = np.zeros((len(list_images), 32, 32, 3))\n",
    "new_labels = [25, 18, 11, 17, 1] #Defined manually\n",
    "\n",
    "for n, image in enumerate(list_images):\n",
    "    # Load the image\n",
    "    image_data = load(test_images_folder + image)\n",
    "    \n",
    "    # Resize Image to 32x32x3\n",
    "    image_resized = resize(image_data, (32, 32), mode='reflect')\n",
    "        \n",
    "    # Store image data\n",
    "    new_images[n,:,:,:] = image_resized\n",
    "    \n",
    "# Display all images\n",
    "for n in range(len(new_images)):\n",
    "    plt.subplot(1, len(new_images), n+1)\n",
    "    plt.imshow(new_images[n])\n",
    "    \n",
    "plt.show()\n",
    "\n",
    "print('New Image dataset size: {}'.format(new_images.shape))"
   ]
  },
  {
   "cell_type": "markdown",
   "metadata": {},
   "source": [
    "### Predict the Sign Type for Each Image"
   ]
  },
  {
   "cell_type": "code",
   "execution_count": 24,
   "metadata": {},
   "outputs": [
    {
     "name": "stdout",
     "output_type": "stream",
     "text": [
      "Converting Dataset to Grayscale and Normalizing\n"
     ]
    },
    {
     "data": {
      "image/png": "[encoded data removed]",
      "text/plain": [
       "<matplotlib.figure.Figure at 0x7fe443809d30>"
      ]
     },
     "metadata": {},
     "output_type": "display_data"
    },
    {
     "data": {
      "image/png": "[encoded data removed]",
      "text/plain": [
       "<matplotlib.figure.Figure at 0x7fe4437dabe0>"
      ]
     },
     "metadata": {},
     "output_type": "display_data"
    },
    {
     "data": {
      "image/png": "[encoded data removed]",
      "text/plain": [
       "<matplotlib.figure.Figure at 0x7fe44376a470>"
      ]
     },
     "metadata": {},
     "output_type": "display_data"
    },
    {
     "data": {
      "image/png": "[encoded data removed]",
      "text/plain": [
       "<matplotlib.figure.Figure at 0x7fe4435ae898>"
      ]
     },
     "metadata": {},
     "output_type": "display_data"
    },
    {
     "data": {
      "image/png": "[encoded data removed]",
      "text/plain": [
       "<matplotlib.figure.Figure at 0x7fe44356ccc0>"
      ]
     },
     "metadata": {},
     "output_type": "display_data"
    }
   ],
   "source": [
    "### Run the predictions here and use the model to output the prediction for each image.\n",
    "### Make sure to pre-process the images with the same pre-processing pipeline used earlier.\n",
    "### Feel free to use as many code cells as needed.\n",
    "\n",
    "import tensorflow as tf\n",
    "\n",
    "saver = tf.train.Saver()\n",
    "\n",
    "# Pre process the data\n",
    "new_images_proc = preprocess(new_images, hyperparams)\n",
    "softmax_prob = tf.nn.softmax(logits)\n",
    "top_outputs = tf.nn.top_k(softmax_prob, 5)\n",
    "\n",
    "# Calculate the logits for each image.\n",
    "with tf.Session() as sess:\n",
    "    saver.restore(sess, tf.train.latest_checkpoint('.'))\n",
    "    \n",
    "    # Calculate the top 5 K predictions\n",
    "    outputs = sess.run(top_outputs, feed_dict={x: new_images_proc})\n",
    "\n",
    "# Extract Values and Indices\n",
    "top_values = outputs.values\n",
    "top_indices = outputs.indices\n",
    "\n",
    "# Predicted Labels\n",
    "pred_labels = [ind[0] for ind in top_indices]\n",
    "for n, pred in enumerate(pred_labels):\n",
    "    plt.figure()\n",
    "    plt.title('Label: {}, {}'.format(pred, sign_names[pred]))\n",
    "    plt.imshow(new_images[n])\n",
    "    \n",
    "plt.show()"
   ]
  },
  {
   "cell_type": "markdown",
   "metadata": {},
   "source": [
    "### Analyze Performance"
   ]
  },
  {
   "cell_type": "code",
   "execution_count": 31,
   "metadata": {},
   "outputs": [
    {
     "name": "stdout",
     "output_type": "stream",
     "text": [
      "Test Performance: 100.00 %\n"
     ]
    }
   ],
   "source": [
    "### Calculate the accuracy for these 5 new images. \n",
    "### For example, if the model predicted 1 out of 5 signs correctly, it's 20% accurate on these new images.\n",
    "pred_performance = 100 *np.sum(np.equal(new_labels, pred_labels)) / len(new_labels)\n",
    "print('Test Performance: {:.2f} %'.format(pred_performance))"
   ]
  },
  {
   "cell_type": "markdown",
   "metadata": {},
   "source": [
    "### Output Top 5 Softmax Probabilities For Each Image Found on the Web"
   ]
  },
  {
   "cell_type": "markdown",
   "metadata": {},
   "source": [
    "For each of the new images, print out the model's softmax probabilities to show the **certainty** of the model's predictions (limit the output to the top 5 probabilities for each image). [`tf.nn.top_k`](https://www.tensorflow.org/versions/r0.12/api_docs/python/nn.html#top_k) could prove helpful here. \n",
    "\n",
    "The example below demonstrates how tf.nn.top_k can be used to find the top k predictions for each image.\n",
    "\n",
    "`tf.nn.top_k` will return the values and indices (class ids) of the top k predictions. So if k=3, for each sign, it'll return the 3 largest probabilities (out of a possible 43) and the correspoding class ids.\n",
    "\n",
    "Take this numpy array as an example. The values in the array represent predictions. The array contains softmax probabilities for five candidate images with six possible classes. `tk.nn.top_k` is used to choose the three classes with the highest probability:\n",
    "\n",
    "```\n",
    "# (5, 6) array\n",
    "a = np.array([[ 0.24879643,  0.07032244,  0.12641572,  0.34763842,  0.07893497,\n",
    "         0.12789202],\n",
    "       [ 0.28086119,  0.27569815,  0.08594638,  0.0178669 ,  0.18063401,\n",
    "         0.15899337],\n",
    "       [ 0.26076848,  0.23664738,  0.08020603,  0.07001922,  0.1134371 ,\n",
    "         0.23892179],\n",
    "       [ 0.11943333,  0.29198961,  0.02605103,  0.26234032,  0.1351348 ,\n",
    "         0.16505091],\n",
    "       [ 0.09561176,  0.34396535,  0.0643941 ,  0.16240774,  0.24206137,\n",
    "         0.09155967]])\n",
    "```\n",
    "\n",
    "Running it through `sess.run(tf.nn.top_k(tf.constant(a), k=3))` produces:\n",
    "\n",
    "```\n",
    "TopKV2(values=array([[ 0.34763842,  0.24879643,  0.12789202],\n",
    "       [ 0.28086119,  0.27569815,  0.18063401],\n",
    "       [ 0.26076848,  0.23892179,  0.23664738],\n",
    "       [ 0.29198961,  0.26234032,  0.16505091],\n",
    "       [ 0.34396535,  0.24206137,  0.16240774]]), indices=array([[3, 0, 5],\n",
    "       [0, 1, 4],\n",
    "       [0, 5, 1],\n",
    "       [1, 3, 5],\n",
    "       [1, 4, 3]], dtype=int32))\n",
    "```\n",
    "\n",
    "Looking just at the first row we get `[ 0.34763842,  0.24879643,  0.12789202]`, you can confirm these are the 3 largest probabilities in `a`. You'll also notice `[3, 0, 5]` are the corresponding indices."
   ]
  },
  {
   "cell_type": "code",
   "execution_count": 34,
   "metadata": {},
   "outputs": [
    {
     "name": "stdout",
     "output_type": "stream",
     "text": [
      "-----------------------------------------\n",
      "Top Probabilities for image 1:\n",
      "  Road work: 100.00 %\n",
      "  General caution: 0.00 %\n",
      "  Dangerous curve to the right: 0.00 %\n",
      "  Bicycles crossing: 0.00 %\n",
      "  Turn right ahead: 0.00 %\n",
      "-----------------------------------------\n",
      "Top Probabilities for image 2:\n",
      "  General caution: 100.00 %\n",
      "  Right-of-way at the next intersection: 0.00 %\n",
      "  Pedestrians: 0.00 %\n",
      "  Go straight or left: 0.00 %\n",
      "  Traffic signals: 0.00 %\n",
      "-----------------------------------------\n",
      "Top Probabilities for image 3:\n",
      "  Right-of-way at the next intersection: 100.00 %\n",
      "  Beware of ice/snow: 0.00 %\n",
      "  End of no passing: 0.00 %\n",
      "  Pedestrians: 0.00 %\n",
      "  Dangerous curve to the right: 0.00 %\n",
      "-----------------------------------------\n",
      "Top Probabilities for image 4:\n",
      "  No entry: 100.00 %\n",
      "  Traffic signals: 0.00 %\n",
      "  Turn right ahead: 0.00 %\n",
      "  Beware of ice/snow: 0.00 %\n",
      "  Turn left ahead: 0.00 %\n",
      "-----------------------------------------\n",
      "Top Probabilities for image 5:\n",
      "  Speed limit (30km/h): 100.00 %\n",
      "  Speed limit (80km/h): 0.00 %\n",
      "  Speed limit (50km/h): 0.00 %\n",
      "  Speed limit (20km/h): 0.00 %\n",
      "  Speed limit (70km/h): 0.00 %\n"
     ]
    }
   ],
   "source": [
    "### Print out the top five softmax probabilities for the predictions on the German traffic sign images found on the web. \n",
    "### Feel free to use as many code cells as needed.\n",
    "\n",
    "for n in range(0, len(new_labels)):\n",
    "    print('-----------------------------------------')\n",
    "    print('Top Probabilities for image {}:'.format(n+1))\n",
    "    top_prob = top_values[n]\n",
    "    top_ind = top_indices[n]\n",
    "    for n_p in range(0, len(top_prob)):\n",
    "        print('  {}: {:.2f} %'.format(sign_names[top_ind[n_p]], top_prob[n_p] * 100))"
   ]
  },
  {
   "cell_type": "markdown",
   "metadata": {},
   "source": [
    "### Project Writeup\n",
    "\n",
    "Once you have completed the code implementation, document your results in a project writeup using this [template](https://github.com/udacity/CarND-Traffic-Sign-Classifier-Project/blob/master/writeup_template.md) as a guide. The writeup can be in a markdown or pdf file. "
   ]
  },
  {
   "cell_type": "markdown",
   "metadata": {},
   "source": [
    "> **Note**: Once you have completed all of the code implementations and successfully answered each question above, you may finalize your work by exporting the iPython Notebook as an HTML document. You can do this by using the menu above and navigating to  \\n\",\n",
    "    \"**File -> Download as -> HTML (.html)**. Include the finished document along with this notebook as your submission."
   ]
  },
  {
   "cell_type": "markdown",
   "metadata": {},
   "source": [
    "---\n",
    "\n",
    "## Step 4 (Optional): Visualize the Neural Network's State with Test Images\n",
    "\n",
    " This Section is not required to complete but acts as an additional excersise for understaning the output of a neural network's weights. While neural networks can be a great learning device they are often referred to as a black box. We can understand what the weights of a neural network look like better by plotting their feature maps. After successfully training your neural network you can see what it's feature maps look like by plotting the output of the network's weight layers in response to a test stimuli image. From these plotted feature maps, it's possible to see what characteristics of an image the network finds interesting. For a sign, maybe the inner network feature maps react with high activation to the sign's boundary outline or to the contrast in the sign's painted symbol.\n",
    "\n",
    " Provided for you below is the function code that allows you to get the visualization output of any tensorflow weight layer you want. The inputs to the function should be a stimuli image, one used during training or a new one you provided, and then the tensorflow variable name that represents the layer's state during the training process, for instance if you wanted to see what the [LeNet lab's](https://classroom.udacity.com/nanodegrees/nd013/parts/fbf77062-5703-404e-b60c-95b78b2f3f9e/modules/6df7ae49-c61c-4bb2-a23e-6527e69209ec/lessons/601ae704-1035-4287-8b11-e2c2716217ad/concepts/d4aca031-508f-4e0b-b493-e7b706120f81) feature maps looked like for it's second convolutional layer you could enter conv2 as the tf_activation variable.\n",
    "\n",
    "For an example of what feature map outputs look like, check out NVIDIA's results in their paper [End-to-End Deep Learning for Self-Driving Cars](https://devblogs.nvidia.com/parallelforall/deep-learning-self-driving-cars/) in the section Visualization of internal CNN State. NVIDIA was able to show that their network's inner weights had high activations to road boundary lines by comparing feature maps from an image with a clear path to one without. Try experimenting with a similar test to show that your trained network's weights are looking for interesting features, whether it's looking at differences in feature maps from images with or without a sign, or even what feature maps look like in a trained network vs a completely untrained one on the same sign image.\n",
    "\n",
    "<figure>\n",
    " <img src=\"visualize_cnn.png\" width=\"380\" alt=\"Combined Image\" />\n",
    " <figcaption>\n",
    " <p></p> \n",
    " <p style=\"text-align: center;\"> Your output should look something like this (above)</p> \n",
    " </figcaption>\n",
    "</figure>\n",
    " <p></p> \n"
   ]
  },
  {
   "cell_type": "code",
   "execution_count": 22,
   "metadata": {
    "collapsed": true
   },
   "outputs": [],
   "source": [
    "### Visualize your network's feature maps here.\n",
    "### Feel free to use as many code cells as needed.\n",
    "\n",
    "# image_input: the test image being fed into the network to produce the feature maps\n",
    "# tf_activation: should be a tf variable name used during your training procedure that represents the calculated state of a specific weight layer\n",
    "# activation_min/max: can be used to view the activation contrast in more detail, by default matplot sets min and max to the actual min and max values of the output\n",
    "# plt_num: used to plot out multiple different weight feature map sets on the same block, just extend the plt number for each new feature map entry\n",
    "\n",
    "def outputFeatureMap(image_input, tf_activation, activation_min=-1, activation_max=-1 ,plt_num=1):\n",
    "    # Here make sure to preprocess your image_input in a way your network expects\n",
    "    # with size, normalization, ect if needed\n",
    "    # image_input =\n",
    "    # Note: x should be the same name as your network's tensorflow data placeholder variable\n",
    "    # If you get an error tf_activation is not defined it may be having trouble accessing the variable from inside a function\n",
    "    activation = tf_activation.eval(session=sess,feed_dict={x : image_input})\n",
    "    featuremaps = activation.shape[3]\n",
    "    plt.figure(plt_num, figsize=(15,15))\n",
    "    for featuremap in range(featuremaps):\n",
    "        plt.subplot(6,8, featuremap+1) # sets the number of feature maps to show on each row and column\n",
    "        plt.title('FeatureMap ' + str(featuremap)) # displays the feature map number\n",
    "        if activation_min != -1 & activation_max != -1:\n",
    "            plt.imshow(activation[0,:,:, featuremap], interpolation=\"nearest\", vmin =activation_min, vmax=activation_max, cmap=\"gray\")\n",
    "        elif activation_max != -1:\n",
    "            plt.imshow(activation[0,:,:, featuremap], interpolation=\"nearest\", vmax=activation_max, cmap=\"gray\")\n",
    "        elif activation_min !=-1:\n",
    "            plt.imshow(activation[0,:,:, featuremap], interpolation=\"nearest\", vmin=activation_min, cmap=\"gray\")\n",
    "        else:\n",
    "            plt.imshow(activation[0,:,:, featuremap], interpolation=\"nearest\", cmap=\"gray\")"
   ]
  }
 ],
 "metadata": {
  "anaconda-cloud": {},
  "kernelspec": {
   "display_name": "Python 3",
   "language": "python",
   "name": "python3"
  },
  "language_info": {
   "codemirror_mode": {
    "name": "ipython",
    "version": 3
   },
   "file_extension": ".py",
   "mimetype": "text/x-python",
   "name": "python",
   "nbconvert_exporter": "python",
   "pygments_lexer": "ipython3",
   "version": "3.5.2"
  },
  "widgets": {
   "state": {},
   "version": "1.1.2"
  }
 },
 "nbformat": 4,
 "nbformat_minor": 1
}
